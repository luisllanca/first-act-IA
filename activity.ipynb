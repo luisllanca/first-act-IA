{
 "cells": [
  {
   "cell_type": "markdown",
   "metadata": {},
   "source": [
    "```\n",
    "conda install -c conda-forge scikit-learn pandas\n",
    "```"
   ]
  },
  {
   "cell_type": "code",
   "execution_count": null,
   "metadata": {},
   "outputs": [],
   "source": [
    "import numpy as np\n",
    "import matplotlib.pyplot as plt\n",
    "import pandas as pd\n",
    "import sklearn"
   ]
  },
  {
   "cell_type": "markdown",
   "metadata": {},
   "source": [
    "### Primera actividad de redes neuronales"
   ]
  },
  {
   "cell_type": "code",
   "execution_count": null,
   "metadata": {},
   "outputs": [],
   "source": [
    "from sklearn.datasets import load_breast_cancer\n",
    "\n",
    "cancer = load_breast_cancer()\n",
    "X_data = cancer.data\n",
    "y_data = cancer.target"
   ]
  },
  {
   "cell_type": "markdown",
   "metadata": {},
   "source": [
    "(https://scikit-learn.org/stable/modules/generated/sklearn.datasets.load_breast_cancer.html#sklearn.datasets.load_breast_cancer)\n",
    "- En el siguiente bloque explore la data, con el fin de responder a estas preguntas.\n",
    "    - ¿De que se trata el dataset?\n",
    "    - ¿Cuales son las clases de salida?\n",
    "    - ¿A que corresponden las caracteristicas?\n",
    "    - ¿Cuantas caracteristicas y clases de salida hay?\n",
    "    - Etc."
   ]
  },
  {
   "cell_type": "code",
   "execution_count": null,
   "metadata": {},
   "outputs": [],
   "source": []
  },
  {
   "cell_type": "code",
   "execution_count": null,
   "metadata": {},
   "outputs": [],
   "source": [
    "import torch\n",
    "from torch.utils.data import random_split,DataLoader,TensorDataset\n",
    "\n",
    "X = torch.tensor(X_data, dtype=torch.float32)\n",
    "Y = torch.tensor(y_data,dtype=torch.long)\n",
    "\n",
    "dataset = TensorDataset(X,Y)\n",
    "\n",
    "train_set, valid_set,test_set = random_split(dataset,[342,113,114],generator=torch.Generator().manual_seed(1234)) ##No cambiar la semilla\n",
    "train_loader = DataLoader(train_set, shuffle=True, batch_size=32)\n",
    "valid_loader = DataLoader(valid_set, shuffle=False, batch_size=128)\n",
    "test_loader = DataLoader(test_set, shuffle=False, batch_size=128)"
   ]
  },
  {
   "cell_type": "markdown",
   "metadata": {},
   "source": [
    "## Implentación de la Red Neuronal\n",
    "- En el siguiente bloque implemente el modelo que utilizará su red neuronal para predecir si un paciente tiene cáncer o no, teniendo en cuenta sus caracteristicas."
   ]
  },
  {
   "cell_type": "code",
   "execution_count": null,
   "metadata": {},
   "outputs": [],
   "source": [
    "import torch.nn as nn"
   ]
  },
  {
   "cell_type": "markdown",
   "metadata": {},
   "source": [
    "- En el siguiente bloque cree una instancia de su red neuronal definida anteriormente y defina una función de pérdida y optimizador adecuados:"
   ]
  },
  {
   "cell_type": "code",
   "execution_count": null,
   "metadata": {},
   "outputs": [],
   "source": []
  },
  {
   "cell_type": "markdown",
   "metadata": {},
   "source": [
    "- Responda: \n",
    "    - ¿Porqué eligió esa función de pérdida?\n",
    "        - ...\n",
    "    - Elija 2 optimizadores populares y describalos, luego explique porqué elige uno de los 2.\n",
    "        - ...   "
   ]
  },
  {
   "cell_type": "markdown",
   "metadata": {},
   "source": [
    "- En el siguiente bloque programe el entrenamiento de su red neuronal"
   ]
  },
  {
   "cell_type": "code",
   "execution_count": null,
   "metadata": {},
   "outputs": [],
   "source": []
  },
  {
   "cell_type": "markdown",
   "metadata": {},
   "source": [
    "- En el sigueinte bloque muestre el gráfico de entrenamiento y validación.\n",
    "- ¿El entrenamiento de su red neuronal está \"listo\"?"
   ]
  },
  {
   "cell_type": "code",
   "execution_count": null,
   "metadata": {},
   "outputs": [],
   "source": []
  },
  {
   "cell_type": "markdown",
   "metadata": {},
   "source": [
    "- En el siguiente bloque evalue que tan bueno es su modelo mediante diferentes métricas"
   ]
  },
  {
   "cell_type": "code",
   "execution_count": null,
   "metadata": {},
   "outputs": [],
   "source": []
  },
  {
   "cell_type": "markdown",
   "metadata": {},
   "source": [
    "- Concluya sobre su trabajo.  \n",
    "- Responda\n",
    "    - ¿Qué tan confiable sería su modelo en un entorno clínico? \n",
    "    - ¿Qué haría para mejorarlo?\n",
    "    - Sobre la matriz de confusión, ¿Alguno de sus elementos son más importantes que otros en este caso?\n",
    "    ¿Que significaría el aumento de FN o FP en este caso? \n",
    "- Investigue sobre alguna arquitectura de red neuronal distinta a la utilizada en este trabajo, describala y explique en que casos sería útil.\n",
    "\n"
   ]
  },
  {
   "cell_type": "markdown",
   "metadata": {},
   "source": [
    "### Pregunta Bonus\n",
    "- ¿Cúal es la principal limitación de las redes neuronales comparado al cerebro humano?"
   ]
  },
  {
   "cell_type": "markdown",
   "metadata": {},
   "source": []
  }
 ],
 "metadata": {
  "kernelspec": {
   "display_name": "transformer",
   "language": "python",
   "name": "python3"
  },
  "language_info": {
   "codemirror_mode": {
    "name": "ipython",
    "version": 3
   },
   "file_extension": ".py",
   "mimetype": "text/x-python",
   "name": "python",
   "nbconvert_exporter": "python",
   "pygments_lexer": "ipython3",
   "version": "3.12.4"
  }
 },
 "nbformat": 4,
 "nbformat_minor": 2
}
